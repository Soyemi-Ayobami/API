{
 "cells": [
  {
   "cell_type": "markdown",
   "id": "f7066b42",
   "metadata": {},
   "source": [
    "An API(Application Programming Interface) is a server that you can be used to retrieve and send data to using code"
   ]
  },
  {
   "cell_type": "code",
   "execution_count": 1,
   "id": "a62c3898",
   "metadata": {},
   "outputs": [
    {
     "name": "stdout",
     "output_type": "stream",
     "text": [
      "Requirement already satisfied: requests in c:\\users\\ayobami shoyemi\\anaconda3\\lib\\site-packages (2.27.1)"
     ]
    },
    {
     "name": "stderr",
     "output_type": "stream",
     "text": [
      "WARNING: Ignoring invalid distribution -yping-extensions (c:\\users\\ayobami shoyemi\\anaconda3\\lib\\site-packages)\n",
      "WARNING: Ignoring invalid distribution -yping-extensions (c:\\users\\ayobami shoyemi\\anaconda3\\lib\\site-packages)\n",
      "WARNING: Ignoring invalid distribution -yping-extensions (c:\\users\\ayobami shoyemi\\anaconda3\\lib\\site-packages)\n",
      "WARNING: Ignoring invalid distribution -yping-extensions (c:\\users\\ayobami shoyemi\\anaconda3\\lib\\site-packages)\n",
      "WARNING: Ignoring invalid distribution -yping-extensions (c:\\users\\ayobami shoyemi\\anaconda3\\lib\\site-packages)\n",
      "WARNING: Ignoring invalid distribution -yping-extensions (c:\\users\\ayobami shoyemi\\anaconda3\\lib\\site-packages)\n"
     ]
    },
    {
     "name": "stdout",
     "output_type": "stream",
     "text": [
      "\n",
      "Requirement already satisfied: idna<4,>=2.5 in c:\\users\\ayobami shoyemi\\anaconda3\\lib\\site-packages (from requests) (3.3)\n",
      "Requirement already satisfied: charset-normalizer~=2.0.0 in c:\\users\\ayobami shoyemi\\anaconda3\\lib\\site-packages (from requests) (2.0.4)\n",
      "Requirement already satisfied: urllib3<1.27,>=1.21.1 in c:\\users\\ayobami shoyemi\\anaconda3\\lib\\site-packages (from requests) (1.26.9)\n",
      "Requirement already satisfied: certifi>=2017.4.17 in c:\\users\\ayobami shoyemi\\anaconda3\\lib\\site-packages (from requests) (2021.10.8)\n"
     ]
    }
   ],
   "source": [
    "#request\n",
    "!pip install requests"
   ]
  },
  {
   "cell_type": "code",
   "execution_count": 2,
   "id": "310c346a",
   "metadata": {},
   "outputs": [],
   "source": [
    "#getting the request API\n",
    "\n",
    "import requests\n",
    "import json\n",
    "\n",
    "ur1 = 'http://api.open-notify.org/astros.json'\n",
    "\n",
    "data = requests.get(ur1) # sending a get request to the api"
   ]
  },
  {
   "cell_type": "code",
   "execution_count": 3,
   "id": "75248ea7",
   "metadata": {},
   "outputs": [
    {
     "data": {
      "text/plain": [
       "200"
      ]
     },
     "execution_count": 3,
     "metadata": {},
     "output_type": "execute_result"
    }
   ],
   "source": [
    "data.status_code"
   ]
  },
  {
   "cell_type": "code",
   "execution_count": 4,
   "id": "8f67ef3d",
   "metadata": {},
   "outputs": [
    {
     "data": {
      "text/plain": [
       "'{\"message\": \"success\", \"people\": [{\"name\": \"Sergey Prokopyev\", \"craft\": \"ISS\"}, {\"name\": \"Dmitry Petelin\", \"craft\": \"ISS\"}, {\"name\": \"Frank Rubio\", \"craft\": \"ISS\"}, {\"name\": \"Nicole Mann\", \"craft\": \"ISS\"}, {\"name\": \"Josh Cassada\", \"craft\": \"ISS\"}, {\"name\": \"Koichi Wakata\", \"craft\": \"ISS\"}, {\"name\": \"Anna Kikina\", \"craft\": \"ISS\"}, {\"name\": \"Fei Junlong\", \"craft\": \"Shenzhou 15\"}, {\"name\": \"Deng Qingming\", \"craft\": \"Shenzhou 15\"}, {\"name\": \"Zhang Lu\", \"craft\": \"Shenzhou 15\"}], \"number\": 10}'"
      ]
     },
     "execution_count": 4,
     "metadata": {},
     "output_type": "execute_result"
    }
   ],
   "source": [
    "data.text"
   ]
  },
  {
   "cell_type": "code",
   "execution_count": 5,
   "id": "5f408386",
   "metadata": {},
   "outputs": [
    {
     "data": {
      "text/plain": [
       "{'Server': 'nginx/1.10.3', 'Date': 'Sun, 26 Feb 2023 21:05:22 GMT', 'Content-Type': 'application/json', 'Content-Length': '492', 'Connection': 'keep-alive', 'access-control-allow-origin': '*'}"
      ]
     },
     "execution_count": 5,
     "metadata": {},
     "output_type": "execute_result"
    }
   ],
   "source": [
    "data.headers"
   ]
  },
  {
   "cell_type": "code",
   "execution_count": 6,
   "id": "8303b337",
   "metadata": {},
   "outputs": [
    {
     "data": {
      "text/plain": [
       "{'message': 'success',\n",
       " 'people': [{'name': 'Sergey Prokopyev', 'craft': 'ISS'},\n",
       "  {'name': 'Dmitry Petelin', 'craft': 'ISS'},\n",
       "  {'name': 'Frank Rubio', 'craft': 'ISS'},\n",
       "  {'name': 'Nicole Mann', 'craft': 'ISS'},\n",
       "  {'name': 'Josh Cassada', 'craft': 'ISS'},\n",
       "  {'name': 'Koichi Wakata', 'craft': 'ISS'},\n",
       "  {'name': 'Anna Kikina', 'craft': 'ISS'},\n",
       "  {'name': 'Fei Junlong', 'craft': 'Shenzhou 15'},\n",
       "  {'name': 'Deng Qingming', 'craft': 'Shenzhou 15'},\n",
       "  {'name': 'Zhang Lu', 'craft': 'Shenzhou 15'}],\n",
       " 'number': 10}"
      ]
     },
     "execution_count": 6,
     "metadata": {},
     "output_type": "execute_result"
    }
   ],
   "source": [
    "#Extracting data from API using json\n",
    "\n",
    "data_json = data.json()\n",
    "\n",
    "data_json"
   ]
  },
  {
   "cell_type": "code",
   "execution_count": 19,
   "id": "a12db9f6",
   "metadata": {},
   "outputs": [
    {
     "name": "stdout",
     "output_type": "stream",
     "text": [
      "success\n"
     ]
    }
   ],
   "source": [
    "print(data_json['message'])"
   ]
  },
  {
   "cell_type": "code",
   "execution_count": 23,
   "id": "bea5c826",
   "metadata": {},
   "outputs": [
    {
     "name": "stdout",
     "output_type": "stream",
     "text": [
      "   message                                             people  number\n",
      "0  success       {'name': 'Sergey Prokopyev', 'craft': 'ISS'}      10\n",
      "1  success         {'name': 'Dmitry Petelin', 'craft': 'ISS'}      10\n",
      "2  success            {'name': 'Frank Rubio', 'craft': 'ISS'}      10\n",
      "3  success            {'name': 'Nicole Mann', 'craft': 'ISS'}      10\n",
      "4  success           {'name': 'Josh Cassada', 'craft': 'ISS'}      10\n",
      "5  success          {'name': 'Koichi Wakata', 'craft': 'ISS'}      10\n",
      "6  success            {'name': 'Anna Kikina', 'craft': 'ISS'}      10\n",
      "7  success    {'name': 'Fei Junlong', 'craft': 'Shenzhou 15'}      10\n",
      "8  success  {'name': 'Deng Qingming', 'craft': 'Shenzhou 15'}      10\n",
      "9  success       {'name': 'Zhang Lu', 'craft': 'Shenzhou 15'}      10\n"
     ]
    }
   ],
   "source": [
    "#Creating a dataframe containing the final data from the obtained json data.\n",
    "\n",
    "import pandas as pd\n",
    "\n",
    "\n",
    "data = pd.read_json('http://api.open-notify.org/astros.json')\n",
    "\n",
    "\n",
    "print(data)"
   ]
  },
  {
   "cell_type": "code",
   "execution_count": 24,
   "id": "c14e5937",
   "metadata": {},
   "outputs": [
    {
     "data": {
      "text/html": [
       "<div>\n",
       "<style scoped>\n",
       "    .dataframe tbody tr th:only-of-type {\n",
       "        vertical-align: middle;\n",
       "    }\n",
       "\n",
       "    .dataframe tbody tr th {\n",
       "        vertical-align: top;\n",
       "    }\n",
       "\n",
       "    .dataframe thead th {\n",
       "        text-align: right;\n",
       "    }\n",
       "</style>\n",
       "<table border=\"1\" class=\"dataframe\">\n",
       "  <thead>\n",
       "    <tr style=\"text-align: right;\">\n",
       "      <th></th>\n",
       "      <th>message</th>\n",
       "      <th>people</th>\n",
       "      <th>number</th>\n",
       "    </tr>\n",
       "  </thead>\n",
       "  <tbody>\n",
       "    <tr>\n",
       "      <th>0</th>\n",
       "      <td>success</td>\n",
       "      <td>{'name': 'Sergey Prokopyev', 'craft': 'ISS'}</td>\n",
       "      <td>10</td>\n",
       "    </tr>\n",
       "    <tr>\n",
       "      <th>1</th>\n",
       "      <td>success</td>\n",
       "      <td>{'name': 'Dmitry Petelin', 'craft': 'ISS'}</td>\n",
       "      <td>10</td>\n",
       "    </tr>\n",
       "    <tr>\n",
       "      <th>2</th>\n",
       "      <td>success</td>\n",
       "      <td>{'name': 'Frank Rubio', 'craft': 'ISS'}</td>\n",
       "      <td>10</td>\n",
       "    </tr>\n",
       "    <tr>\n",
       "      <th>3</th>\n",
       "      <td>success</td>\n",
       "      <td>{'name': 'Nicole Mann', 'craft': 'ISS'}</td>\n",
       "      <td>10</td>\n",
       "    </tr>\n",
       "    <tr>\n",
       "      <th>4</th>\n",
       "      <td>success</td>\n",
       "      <td>{'name': 'Josh Cassada', 'craft': 'ISS'}</td>\n",
       "      <td>10</td>\n",
       "    </tr>\n",
       "    <tr>\n",
       "      <th>5</th>\n",
       "      <td>success</td>\n",
       "      <td>{'name': 'Koichi Wakata', 'craft': 'ISS'}</td>\n",
       "      <td>10</td>\n",
       "    </tr>\n",
       "    <tr>\n",
       "      <th>6</th>\n",
       "      <td>success</td>\n",
       "      <td>{'name': 'Anna Kikina', 'craft': 'ISS'}</td>\n",
       "      <td>10</td>\n",
       "    </tr>\n",
       "    <tr>\n",
       "      <th>7</th>\n",
       "      <td>success</td>\n",
       "      <td>{'name': 'Fei Junlong', 'craft': 'Shenzhou 15'}</td>\n",
       "      <td>10</td>\n",
       "    </tr>\n",
       "    <tr>\n",
       "      <th>8</th>\n",
       "      <td>success</td>\n",
       "      <td>{'name': 'Deng Qingming', 'craft': 'Shenzhou 15'}</td>\n",
       "      <td>10</td>\n",
       "    </tr>\n",
       "    <tr>\n",
       "      <th>9</th>\n",
       "      <td>success</td>\n",
       "      <td>{'name': 'Zhang Lu', 'craft': 'Shenzhou 15'}</td>\n",
       "      <td>10</td>\n",
       "    </tr>\n",
       "  </tbody>\n",
       "</table>\n",
       "</div>"
      ],
      "text/plain": [
       "   message                                             people  number\n",
       "0  success       {'name': 'Sergey Prokopyev', 'craft': 'ISS'}      10\n",
       "1  success         {'name': 'Dmitry Petelin', 'craft': 'ISS'}      10\n",
       "2  success            {'name': 'Frank Rubio', 'craft': 'ISS'}      10\n",
       "3  success            {'name': 'Nicole Mann', 'craft': 'ISS'}      10\n",
       "4  success           {'name': 'Josh Cassada', 'craft': 'ISS'}      10\n",
       "5  success          {'name': 'Koichi Wakata', 'craft': 'ISS'}      10\n",
       "6  success            {'name': 'Anna Kikina', 'craft': 'ISS'}      10\n",
       "7  success    {'name': 'Fei Junlong', 'craft': 'Shenzhou 15'}      10\n",
       "8  success  {'name': 'Deng Qingming', 'craft': 'Shenzhou 15'}      10\n",
       "9  success       {'name': 'Zhang Lu', 'craft': 'Shenzhou 15'}      10"
      ]
     },
     "execution_count": 24,
     "metadata": {},
     "output_type": "execute_result"
    }
   ],
   "source": [
    "data"
   ]
  },
  {
   "cell_type": "code",
   "execution_count": null,
   "id": "15ce34cd",
   "metadata": {},
   "outputs": [],
   "source": []
  },
  {
   "cell_type": "code",
   "execution_count": null,
   "id": "66be762c",
   "metadata": {},
   "outputs": [],
   "source": []
  }
 ],
 "metadata": {
  "kernelspec": {
   "display_name": "Python 3 (ipykernel)",
   "language": "python",
   "name": "python3"
  },
  "language_info": {
   "codemirror_mode": {
    "name": "ipython",
    "version": 3
   },
   "file_extension": ".py",
   "mimetype": "text/x-python",
   "name": "python",
   "nbconvert_exporter": "python",
   "pygments_lexer": "ipython3",
   "version": "3.9.12"
  }
 },
 "nbformat": 4,
 "nbformat_minor": 5
}
